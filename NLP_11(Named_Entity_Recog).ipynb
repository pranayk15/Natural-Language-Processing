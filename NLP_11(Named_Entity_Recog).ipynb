{
 "cells": [
  {
   "cell_type": "code",
   "execution_count": 1,
   "id": "d2562cb0",
   "metadata": {},
   "outputs": [],
   "source": [
    "import spacy"
   ]
  },
  {
   "cell_type": "code",
   "execution_count": 3,
   "id": "7ea57930",
   "metadata": {},
   "outputs": [],
   "source": [
    "nlp=spacy.load('en_core_web_sm')"
   ]
  },
  {
   "cell_type": "code",
   "execution_count": 12,
   "id": "ab341dd2",
   "metadata": {
    "scrolled": true
   },
   "outputs": [
    {
     "data": {
      "text/plain": [
       "['CARDINAL',\n",
       " 'DATE',\n",
       " 'EVENT',\n",
       " 'FAC',\n",
       " 'GPE',\n",
       " 'LANGUAGE',\n",
       " 'LAW',\n",
       " 'LOC',\n",
       " 'MONEY',\n",
       " 'NORP',\n",
       " 'ORDINAL',\n",
       " 'ORG',\n",
       " 'PERCENT',\n",
       " 'PERSON',\n",
       " 'PRODUCT',\n",
       " 'QUANTITY',\n",
       " 'TIME',\n",
       " 'WORK_OF_ART']"
      ]
     },
     "execution_count": 12,
     "metadata": {},
     "output_type": "execute_result"
    }
   ],
   "source": [
    "nlp.pipe_labels['ner']"
   ]
  },
  {
   "cell_type": "code",
   "execution_count": 7,
   "id": "bf5147b1",
   "metadata": {},
   "outputs": [
    {
     "data": {
      "text/plain": [
       "['tok2vec', 'tagger', 'parser', 'attribute_ruler', 'lemmatizer', 'ner']"
      ]
     },
     "execution_count": 7,
     "metadata": {},
     "output_type": "execute_result"
    }
   ],
   "source": [
    "nlp.pipe_names"
   ]
  },
  {
   "cell_type": "code",
   "execution_count": 13,
   "id": "9ee862ae",
   "metadata": {},
   "outputs": [
    {
     "data": {
      "text/plain": [
       "(['$',\n",
       "  \"''\",\n",
       "  ',',\n",
       "  '-LRB-',\n",
       "  '-RRB-',\n",
       "  '.',\n",
       "  ':',\n",
       "  'ADD',\n",
       "  'AFX',\n",
       "  'CC',\n",
       "  'CD',\n",
       "  'DT',\n",
       "  'EX',\n",
       "  'FW',\n",
       "  'HYPH',\n",
       "  'IN',\n",
       "  'JJ',\n",
       "  'JJR',\n",
       "  'JJS',\n",
       "  'LS',\n",
       "  'MD',\n",
       "  'NFP',\n",
       "  'NN',\n",
       "  'NNP',\n",
       "  'NNPS',\n",
       "  'NNS',\n",
       "  'PDT',\n",
       "  'POS',\n",
       "  'PRP',\n",
       "  'PRP$',\n",
       "  'RB',\n",
       "  'RBR',\n",
       "  'RBS',\n",
       "  'RP',\n",
       "  'SYM',\n",
       "  'TO',\n",
       "  'UH',\n",
       "  'VB',\n",
       "  'VBD',\n",
       "  'VBG',\n",
       "  'VBN',\n",
       "  'VBP',\n",
       "  'VBZ',\n",
       "  'WDT',\n",
       "  'WP',\n",
       "  'WP$',\n",
       "  'WRB',\n",
       "  'XX',\n",
       "  '_SP',\n",
       "  '``'],\n",
       " ['ROOT',\n",
       "  'acl',\n",
       "  'acomp',\n",
       "  'advcl',\n",
       "  'advmod',\n",
       "  'agent',\n",
       "  'amod',\n",
       "  'appos',\n",
       "  'attr',\n",
       "  'aux',\n",
       "  'auxpass',\n",
       "  'case',\n",
       "  'cc',\n",
       "  'ccomp',\n",
       "  'compound',\n",
       "  'conj',\n",
       "  'csubj',\n",
       "  'csubjpass',\n",
       "  'dative',\n",
       "  'dep',\n",
       "  'det',\n",
       "  'dobj',\n",
       "  'expl',\n",
       "  'intj',\n",
       "  'mark',\n",
       "  'meta',\n",
       "  'neg',\n",
       "  'nmod',\n",
       "  'npadvmod',\n",
       "  'nsubj',\n",
       "  'nsubjpass',\n",
       "  'nummod',\n",
       "  'oprd',\n",
       "  'parataxis',\n",
       "  'pcomp',\n",
       "  'pobj',\n",
       "  'poss',\n",
       "  'preconj',\n",
       "  'predet',\n",
       "  'prep',\n",
       "  'prt',\n",
       "  'punct',\n",
       "  'quantmod',\n",
       "  'relcl',\n",
       "  'xcomp'],\n",
       " [],\n",
       " [])"
      ]
     },
     "execution_count": 13,
     "metadata": {},
     "output_type": "execute_result"
    }
   ],
   "source": [
    "nlp.pipe_labels['tagger'],nlp.pipe_labels['parser'],nlp.pipe_labels['tok2vec'],nlp.pipe_labels['lemmatizer']"
   ]
  },
  {
   "cell_type": "code",
   "execution_count": 49,
   "id": "af5fe6e6",
   "metadata": {},
   "outputs": [],
   "source": [
    "text='Tesla is going to acquire Twitter for $45 Billion Bihar'\n",
    "d=nlp(text)"
   ]
  },
  {
   "cell_type": "code",
   "execution_count": 50,
   "id": "3ed3ea59",
   "metadata": {},
   "outputs": [
    {
     "name": "stdout",
     "output_type": "stream",
     "text": [
      "Tesla ORG\n",
      "Twitter PRODUCT\n",
      "$45 Billion MONEY\n"
     ]
    }
   ],
   "source": [
    "for i in d.ents:\n",
    "    print(i.text,i.label_)"
   ]
  },
  {
   "cell_type": "code",
   "execution_count": 31,
   "id": "183e989f",
   "metadata": {},
   "outputs": [],
   "source": [
    "from spacy.tokens import Span    #This is used to set the label of the required word as the label of the twitter as product to Org\n",
    "s1=Span(d,0,1,label=\"ORG\")\n",
    "s2=Span(d,5,6,label=\"ORG\")\n",
    "\n",
    "d.set_ents([s1,s2],default=\"unmodified\")"
   ]
  },
  {
   "cell_type": "code",
   "execution_count": 33,
   "id": "61daf672",
   "metadata": {},
   "outputs": [
    {
     "name": "stdout",
     "output_type": "stream",
     "text": [
      "Tesla ORG\n",
      "Twitter ORG\n",
      "$45 Billion MONEY\n"
     ]
    }
   ],
   "source": [
    "for i in d.ents:\n",
    "    print(i.text,i.label_)"
   ]
  },
  {
   "cell_type": "code",
   "execution_count": 35,
   "id": "dd123cf1",
   "metadata": {},
   "outputs": [],
   "source": [
    "text='''Sachin Tendulkar was born on 24 April 1973, Virat Kohli was born on 5 November 1988, Dhoni was born on 7 July 1981 and finally Ricky Ponting was born on 19 December 1974'''\n",
    "d=nlp(text)"
   ]
  },
  {
   "cell_type": "code",
   "execution_count": 41,
   "id": "e46f0345",
   "metadata": {},
   "outputs": [
    {
     "data": {
      "text/plain": [
       "['24 April 1973', '5 November 1988', '7 July 1981', '19 December 1974']"
      ]
     },
     "execution_count": 41,
     "metadata": {},
     "output_type": "execute_result"
    }
   ],
   "source": [
    "a=[]\n",
    "for i in d.ents:\n",
    "    if i.label_==\"DATE\":\n",
    "        a.append(i.text)\n",
    "a"
   ]
  },
  {
   "cell_type": "code",
   "execution_count": 51,
   "id": "ab30f72e",
   "metadata": {},
   "outputs": [
    {
     "name": "stdout",
     "output_type": "stream",
     "text": [
      "count : 4\n"
     ]
    }
   ],
   "source": [
    "print(\"count :\",len(a))"
   ]
  },
  {
   "cell_type": "code",
   "execution_count": 54,
   "id": "6aafb8ec",
   "metadata": {},
   "outputs": [],
   "source": [
    "text='''Bihar is a state and Delhi is India capital and Mumbai is India financial capital while Jharkhand is also known as tribal state'''\n",
    "d=nlp(text)"
   ]
  },
  {
   "cell_type": "code",
   "execution_count": 57,
   "id": "b05ebf3a",
   "metadata": {},
   "outputs": [
    {
     "data": {
      "text/plain": [
       "['Bihar', 'Delhi', 'India', 'Mumbai', 'India', 'Jharkhand']"
      ]
     },
     "execution_count": 57,
     "metadata": {},
     "output_type": "execute_result"
    }
   ],
   "source": [
    "a=[]\n",
    "for i in d.ents:\n",
    "    if i.label_==\"GPE\":\n",
    "        a.append(i.text)\n",
    "a"
   ]
  },
  {
   "cell_type": "code",
   "execution_count": 58,
   "id": "dc92415a",
   "metadata": {},
   "outputs": [
    {
     "name": "stdout",
     "output_type": "stream",
     "text": [
      "count : 6\n"
     ]
    }
   ],
   "source": [
    "print(\"count :\",len(a))"
   ]
  }
 ],
 "metadata": {
  "kernelspec": {
   "display_name": "Python 3 (ipykernel)",
   "language": "python",
   "name": "python3"
  },
  "language_info": {
   "codemirror_mode": {
    "name": "ipython",
    "version": 3
   },
   "file_extension": ".py",
   "mimetype": "text/x-python",
   "name": "python",
   "nbconvert_exporter": "python",
   "pygments_lexer": "ipython3",
   "version": "3.11.4"
  }
 },
 "nbformat": 4,
 "nbformat_minor": 5
}
