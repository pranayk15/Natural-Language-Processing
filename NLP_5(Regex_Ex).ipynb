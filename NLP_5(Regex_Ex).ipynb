{
 "cells": [
  {
   "cell_type": "code",
   "execution_count": 2,
   "id": "46d9d3f0",
   "metadata": {},
   "outputs": [],
   "source": [
    "import re"
   ]
  },
  {
   "cell_type": "code",
   "execution_count": 3,
   "id": "cc332e6b",
   "metadata": {},
   "outputs": [],
   "source": [
    "text='''Follow our leader Elon Musk on twitter here: https://twitter.com/elonmusk, more information\n",
    "on Tesla's products can be found at https://www.tesla.com/. Also here are leading influencers\n",
    "for Tesla related news,\n",
    "https://twitter.com/teslarati\n",
    "https://twitter.com/dummy_tesla\n",
    "https://twitter.com/dummy_2_tesla\n",
    "'''"
   ]
  },
  {
   "cell_type": "code",
   "execution_count": 49,
   "id": "eaaddd2c",
   "metadata": {},
   "outputs": [
    {
     "data": {
      "text/plain": [
       "['elonmusk', 'teslarati', 'dummy_tesla', 'dummy_2_tesla']"
      ]
     },
     "execution_count": 49,
     "metadata": {},
     "output_type": "execute_result"
    }
   ],
   "source": [
    "pattern='.com/([a-zA-Z0-9_]+)'  #The + sign is used to select a single word from the entire remaining sentence\n",
    "matches=re.findall(pattern,text)\n",
    "matches"
   ]
  },
  {
   "cell_type": "code",
   "execution_count": 55,
   "id": "9b7ff3ab",
   "metadata": {},
   "outputs": [],
   "source": [
    "text='''concentration of risk: Credit Risk \n",
    "kshufejrknrrrg;hwiughiughiugi4uhgi4rnfoejiqjowurhwifjnwofjhwfiuehfeifneofiehfefneofwndowidjwwhiwfwowodiwfhw\\wwfw\n",
    "wwhfiwufghwifuebfiejfgeifuebfieufgef8wyfuwdybwifuwhfw9fhieufbeifencowidjwoiwhfiwbcoswjiwfwgbdijosifhwiduwdowidhowufg\n",
    "iuwhfgweifyvwyegfeuybeiufhwiuriuegdiyhfvsijrosihdifubsidhfoiehrifbiufdhifuehirbriudhfifuhw0iejroiujwhijfodsidhorhwieurh\n",
    "iwuhifwiejbriwyguirhbwuhgifuhoiejrowjeijfbisugrierjbwieuhfiwhebriisjdoirhwibeiugsidurowieoruwbie\n",
    "concentration of risk: Supply Risk\n",
    "suehfiejbfieurhfiejnrfoehjrotuhetiuneituhtoeirngoeijrtoienrofijsoriheriutijhrtiuehrtijeriuhtisjbrowoehrwihgeirugh\n",
    "iuehriuhbeihbfieygruyvbwuebhrwuehtrwiuehljherlwjenrfoweliurhtlwueirhtlwjehrltuiwerhtliuehtliwuerhtliwuehrtilwuerht\n",
    "liihiweurytiu45tihbweiufb58yg5t4y5bteurhi4y58ty4iruhfiowuerhtouwittilwuyti45tuqpoiu4tiu3h4itu987t9uheriuehr9u'''"
   ]
  },
  {
   "cell_type": "code",
   "execution_count": 57,
   "id": "12b63795",
   "metadata": {},
   "outputs": [
    {
     "data": {
      "text/plain": [
       "['Credit Risk ', 'Supply Risk']"
      ]
     },
     "execution_count": 57,
     "metadata": {},
     "output_type": "execute_result"
    }
   ],
   "source": [
    "pattern='concentration of risk: (.*)'\n",
    "matches=re.findall(pattern,text)\n",
    "matches"
   ]
  },
  {
   "cell_type": "code",
   "execution_count": 59,
   "id": "b2a5f76b",
   "metadata": {},
   "outputs": [],
   "source": [
    "text='''\n",
    "Tesla gross cost of operating lease vehicles in FY2021 Q1 was $4.85 billion.\n",
    "BMW gross cost of operating vehicles in FY2021 S1 was $8 billion.\n",
    "'''"
   ]
  },
  {
   "cell_type": "code",
   "execution_count": 70,
   "id": "dddfe64b",
   "metadata": {},
   "outputs": [
    {
     "data": {
      "text/plain": [
       "['2021 Q1', '2021 S1']"
      ]
     },
     "execution_count": 70,
     "metadata": {},
     "output_type": "execute_result"
    }
   ],
   "source": [
    "pattern='FY(\\d{4} (?:Q[1-4]|S[1-2]))'\n",
    "matches=re.findall(pattern,text)\n",
    "matches"
   ]
  }
 ],
 "metadata": {
  "kernelspec": {
   "display_name": "Python 3 (ipykernel)",
   "language": "python",
   "name": "python3"
  },
  "language_info": {
   "codemirror_mode": {
    "name": "ipython",
    "version": 3
   },
   "file_extension": ".py",
   "mimetype": "text/x-python",
   "name": "python",
   "nbconvert_exporter": "python",
   "pygments_lexer": "ipython3",
   "version": "3.11.4"
  }
 },
 "nbformat": 4,
 "nbformat_minor": 5
}
