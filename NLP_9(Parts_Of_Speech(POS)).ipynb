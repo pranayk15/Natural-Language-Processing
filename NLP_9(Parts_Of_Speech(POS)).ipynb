{
 "cells": [
  {
   "cell_type": "code",
   "execution_count": 2,
   "id": "4200db22",
   "metadata": {},
   "outputs": [],
   "source": [
    "import spacy"
   ]
  },
  {
   "cell_type": "code",
   "execution_count": 8,
   "id": "30832cab",
   "metadata": {},
   "outputs": [],
   "source": [
    "nlp=spacy.load('en_core_web_sm')"
   ]
  },
  {
   "cell_type": "code",
   "execution_count": 9,
   "id": "649a7b56",
   "metadata": {},
   "outputs": [],
   "source": [
    "text='Wow! what a wonderful scenary'\n",
    "d=nlp(text)"
   ]
  },
  {
   "cell_type": "code",
   "execution_count": 14,
   "id": "ff4f910f",
   "metadata": {},
   "outputs": [
    {
     "name": "stdout",
     "output_type": "stream",
     "text": [
      "Wow  |  INTJ  |  interjection  |  UH  |  interjection\n",
      "!  |  PUNCT  |  punctuation  |  .  |  punctuation mark, sentence closer\n",
      "what  |  PRON  |  pronoun  |  WP  |  wh-pronoun, personal\n",
      "a  |  DET  |  determiner  |  DT  |  determiner\n",
      "wonderful  |  ADJ  |  adjective  |  JJ  |  adjective (English), other noun-modifier (Chinese)\n",
      "scenary  |  NOUN  |  noun  |  NN  |  noun, singular or mass\n"
     ]
    }
   ],
   "source": [
    "for i in d:\n",
    "    print(i.text,' | ',i.pos_,' | ',spacy.explain(i.pos_),' | ',i.tag_,' | ',spacy.explain(i.tag_))"
   ]
  },
  {
   "cell_type": "code",
   "execution_count": 24,
   "id": "331714f1",
   "metadata": {},
   "outputs": [
    {
     "data": {
      "text/plain": [
       "dict"
      ]
     },
     "execution_count": 24,
     "metadata": {},
     "output_type": "execute_result"
    }
   ],
   "source": [
    "e=d.count_by(spacy.attrs.POS)\n",
    "type(e)"
   ]
  },
  {
   "cell_type": "code",
   "execution_count": 28,
   "id": "f958b1fc",
   "metadata": {},
   "outputs": [
    {
     "name": "stdout",
     "output_type": "stream",
     "text": [
      "91 INTJ interjection\n",
      "97 PUNCT punctuation\n",
      "95 PRON pronoun\n",
      "90 DET determiner\n",
      "84 ADJ adjective\n",
      "92 NOUN noun\n"
     ]
    }
   ],
   "source": [
    "for i in e.keys():\n",
    "    print(i,d.vocab[i].text,spacy.explain(d.vocab[i].text))"
   ]
  },
  {
   "cell_type": "code",
   "execution_count": 21,
   "id": "424138af",
   "metadata": {},
   "outputs": [
    {
     "data": {
      "text/plain": [
       "'INTJ'"
      ]
     },
     "execution_count": 21,
     "metadata": {},
     "output_type": "execute_result"
    }
   ],
   "source": []
  }
 ],
 "metadata": {
  "kernelspec": {
   "display_name": "Python 3 (ipykernel)",
   "language": "python",
   "name": "python3"
  },
  "language_info": {
   "codemirror_mode": {
    "name": "ipython",
    "version": 3
   },
   "file_extension": ".py",
   "mimetype": "text/x-python",
   "name": "python",
   "nbconvert_exporter": "python",
   "pygments_lexer": "ipython3",
   "version": "3.11.4"
  }
 },
 "nbformat": 4,
 "nbformat_minor": 5
}
