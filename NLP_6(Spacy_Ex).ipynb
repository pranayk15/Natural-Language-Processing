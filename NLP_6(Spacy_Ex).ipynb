{
 "cells": [
  {
   "cell_type": "code",
   "execution_count": 3,
   "id": "0973725b",
   "metadata": {},
   "outputs": [],
   "source": [
    "import spacy"
   ]
  },
  {
   "cell_type": "code",
   "execution_count": 13,
   "id": "9aa81071",
   "metadata": {},
   "outputs": [],
   "source": [
    "text='''Look for data to help you address the question. Governments are good sources because data from public research is often\n",
    "freely available. Good places to start include http://data.gov/, and http://www.science.\n",
    "gov/,and in the United Kingdom, http://data.gov.uk/.\n",
    "Two of my favourite dat sets are the Genral Social Survey at http://www3.norc.org/gss+website/ ,\n",
    "and the European Social Survey at http://www.europeansocialsurvey.org/.\n",
    "'''"
   ]
  },
  {
   "cell_type": "code",
   "execution_count": 14,
   "id": "15e61a47",
   "metadata": {},
   "outputs": [],
   "source": [
    "nlp=spacy.blank('en')"
   ]
  },
  {
   "cell_type": "code",
   "execution_count": 15,
   "id": "8d66ba1f",
   "metadata": {},
   "outputs": [],
   "source": [
    "t=nlp(text)"
   ]
  },
  {
   "cell_type": "code",
   "execution_count": 17,
   "id": "3c23036c",
   "metadata": {},
   "outputs": [
    {
     "name": "stdout",
     "output_type": "stream",
     "text": [
      "http://data.gov/\n",
      "http://www.science\n",
      "http://data.gov.uk/.\n",
      "http://www3.norc.org/gss+website/\n",
      "http://www.europeansocialsurvey.org/.\n"
     ]
    }
   ],
   "source": [
    "for i in t:\n",
    "    if i.like_url:\n",
    "        print(i)"
   ]
  },
  {
   "cell_type": "code",
   "execution_count": 19,
   "id": "3da7ef34",
   "metadata": {},
   "outputs": [],
   "source": [
    "text='''Tony gave two $ to Peter, Bruce gave 500 Euro to Steve'''"
   ]
  },
  {
   "cell_type": "code",
   "execution_count": 21,
   "id": "94212ca3",
   "metadata": {},
   "outputs": [],
   "source": [
    "s=nlp(text)"
   ]
  },
  {
   "cell_type": "code",
   "execution_count": 26,
   "id": "aed2dba5",
   "metadata": {},
   "outputs": [
    {
     "name": "stdout",
     "output_type": "stream",
     "text": [
      "two\n",
      "$\n",
      "500\n"
     ]
    }
   ],
   "source": [
    "for i in s:\n",
    "    if i.is_currency or i.like_num:\n",
    "        print(i)"
   ]
  }
 ],
 "metadata": {
  "kernelspec": {
   "display_name": "Python 3 (ipykernel)",
   "language": "python",
   "name": "python3"
  },
  "language_info": {
   "codemirror_mode": {
    "name": "ipython",
    "version": 3
   },
   "file_extension": ".py",
   "mimetype": "text/x-python",
   "name": "python",
   "nbconvert_exporter": "python",
   "pygments_lexer": "ipython3",
   "version": "3.11.4"
  }
 },
 "nbformat": 4,
 "nbformat_minor": 5
}
