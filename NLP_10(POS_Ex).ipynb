{
 "cells": [
  {
   "cell_type": "code",
   "execution_count": 2,
   "id": "8a4503ea",
   "metadata": {},
   "outputs": [],
   "source": [
    "import spacy\n",
    "nlp=spacy.load('en_core_web_sm')"
   ]
  },
  {
   "cell_type": "code",
   "execution_count": 9,
   "id": "0b13d461",
   "metadata": {},
   "outputs": [],
   "source": [
    "text='''Inflation again rose in April, continuing a climb that has pushed consumers to the brink and is threatening the economic expansion, the Bureau of Labor Statistics reported Wednesday. in 1908'''\n"
   ]
  },
  {
   "cell_type": "code",
   "execution_count": 10,
   "id": "7cfd78cc",
   "metadata": {},
   "outputs": [],
   "source": [
    "d=nlp(text)"
   ]
  },
  {
   "cell_type": "code",
   "execution_count": 15,
   "id": "71e33ba5",
   "metadata": {
    "scrolled": true
   },
   "outputs": [
    {
     "data": {
      "text/plain": [
       "[Inflation, climb, consumers, brink, expansion]"
      ]
     },
     "execution_count": 15,
     "metadata": {},
     "output_type": "execute_result"
    }
   ],
   "source": [
    "num=[]\n",
    "noun=[]\n",
    "for i in d:\n",
    "    if i.pos_=='NOUN':\n",
    "        noun.append(i)\n",
    "    if i.pos_=='NUM':\n",
    "        num.append(i)\n",
    "noun\n"
   ]
  },
  {
   "cell_type": "code",
   "execution_count": 17,
   "id": "30bbfe5f",
   "metadata": {},
   "outputs": [
    {
     "data": {
      "text/plain": [
       "[1908]"
      ]
     },
     "execution_count": 17,
     "metadata": {},
     "output_type": "execute_result"
    }
   ],
   "source": [
    "num"
   ]
  },
  {
   "cell_type": "code",
   "execution_count": 21,
   "id": "68f34abe",
   "metadata": {},
   "outputs": [],
   "source": [
    "e=d.count_by(spacy.attrs.POS)"
   ]
  },
  {
   "cell_type": "code",
   "execution_count": 28,
   "id": "5af6eb2d",
   "metadata": {},
   "outputs": [
    {
     "name": "stdout",
     "output_type": "stream",
     "text": [
      "NOUN  |  5\n",
      "ADV  |  1\n",
      "VERB  |  5\n",
      "ADP  |  4\n",
      "PROPN  |  5\n",
      "PUNCT  |  3\n",
      "DET  |  4\n",
      "PRON  |  1\n",
      "AUX  |  2\n",
      "CCONJ  |  1\n",
      "ADJ  |  1\n",
      "NUM  |  1\n"
     ]
    }
   ],
   "source": [
    "for i,j in e.items():\n",
    "    print(d.vocab[i].text,' | ',j)"
   ]
  }
 ],
 "metadata": {
  "kernelspec": {
   "display_name": "Python 3 (ipykernel)",
   "language": "python",
   "name": "python3"
  },
  "language_info": {
   "codemirror_mode": {
    "name": "ipython",
    "version": 3
   },
   "file_extension": ".py",
   "mimetype": "text/x-python",
   "name": "python",
   "nbconvert_exporter": "python",
   "pygments_lexer": "ipython3",
   "version": "3.11.4"
  }
 },
 "nbformat": 4,
 "nbformat_minor": 5
}
