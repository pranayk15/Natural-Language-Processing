{
 "cells": [
  {
   "cell_type": "code",
   "execution_count": null,
   "id": "092e41f7",
   "metadata": {},
   "outputs": [],
   "source": [
    "#Regex\n",
    "#Regex are used in phonology,morphology,text analysis,information extraction and speech recognition"
   ]
  },
  {
   "cell_type": "code",
   "execution_count": 2,
   "id": "eff1bee7",
   "metadata": {},
   "outputs": [],
   "source": [
    "import re"
   ]
  },
  {
   "cell_type": "code",
   "execution_count": 47,
   "id": "d8942915",
   "metadata": {},
   "outputs": [],
   "source": [
    "chat1='you ask a lot of questions  1236547898, abc@xyz.com 7849849198'\n",
    "chat2='here it is: (124)-654-7895, Abc_90@xyz.com'\n",
    "chat3='yes, phone: 1203654789 email: abc@Xyz.com'"
   ]
  },
  {
   "cell_type": "code",
   "execution_count": 33,
   "id": "978ffce8",
   "metadata": {},
   "outputs": [
    {
     "data": {
      "text/plain": [
       "['1236547898', '7849849198']"
      ]
     },
     "execution_count": 33,
     "metadata": {},
     "output_type": "execute_result"
    }
   ],
   "source": [
    "pattern='\\d{10}'      #pattern to select 10 consecutive digits from a simple chat in which the number could be anything\n",
    "matches=re.findall(pattern,chat1)  #it would not work with the chat2 as it also contains brackets in it\n",
    "matches"
   ]
  },
  {
   "cell_type": "code",
   "execution_count": 30,
   "id": "fc733793",
   "metadata": {},
   "outputs": [
    {
     "data": {
      "text/plain": [
       "['(124)']"
      ]
     },
     "execution_count": 30,
     "metadata": {},
     "output_type": "execute_result"
    }
   ],
   "source": [
    "pattern='\\(\\d{3}\\)'   #to select only the bracket portion of the number in chat2 we need to write this   \n",
    "matches=re.findall(pattern,chat2)  \n",
    "matches"
   ]
  },
  {
   "cell_type": "code",
   "execution_count": 32,
   "id": "bd9094f9",
   "metadata": {},
   "outputs": [
    {
     "data": {
      "text/plain": [
       "['(124)-654-7895']"
      ]
     },
     "execution_count": 32,
     "metadata": {},
     "output_type": "execute_result"
    }
   ],
   "source": [
    "pattern='\\(\\d{3}\\)-\\d{3}-\\d{4}'      #to select the number from chat2 we need to write the pattern as shown as\n",
    "matches=re.findall(pattern,chat2)  \n",
    "matches"
   ]
  },
  {
   "cell_type": "code",
   "execution_count": 53,
   "id": "d1fbfa06",
   "metadata": {},
   "outputs": [
    {
     "data": {
      "text/plain": [
       "'abc@Xyz.com'"
      ]
     },
     "execution_count": 53,
     "metadata": {},
     "output_type": "execute_result"
    }
   ],
   "source": [
    "# to find the email pattern recognition we need to use the pattern as follows\n",
    "pattern='[a-z0-9_A-Z]*@[a-zA-Z]*\\.com'\n",
    "matches=re.findall(pattern,chat3)\n",
    "matches[0]"
   ]
  },
  {
   "cell_type": "code",
   "execution_count": 54,
   "id": "c2cfdf7d",
   "metadata": {},
   "outputs": [],
   "source": [
    "chat='Hey hello I am having issues with my order # 412889912'\n",
    "chat1='I have a problem with my order number 41889912'"
   ]
  },
  {
   "cell_type": "code",
   "execution_count": 64,
   "id": "39578d0f",
   "metadata": {},
   "outputs": [
    {
     "data": {
      "text/plain": [
       "['412889912']"
      ]
     },
     "execution_count": 64,
     "metadata": {},
     "output_type": "execute_result"
    }
   ],
   "source": [
    "pattern='order[^\\d]*([\\d]*)'    #^\\d selects the sequence of characters which are not numbers and \\d selects numbers from the chat\n",
    "matches=re.findall(pattern,chat)   #applying brackets only selects the required quantity\n",
    "matches"
   ]
  },
  {
   "cell_type": "code",
   "execution_count": null,
   "id": "b42c0f28",
   "metadata": {},
   "outputs": [],
   "source": []
  }
 ],
 "metadata": {
  "kernelspec": {
   "display_name": "Python 3 (ipykernel)",
   "language": "python",
   "name": "python3"
  },
  "language_info": {
   "codemirror_mode": {
    "name": "ipython",
    "version": 3
   },
   "file_extension": ".py",
   "mimetype": "text/x-python",
   "name": "python",
   "nbconvert_exporter": "python",
   "pygments_lexer": "ipython3",
   "version": "3.11.4"
  }
 },
 "nbformat": 4,
 "nbformat_minor": 5
}
