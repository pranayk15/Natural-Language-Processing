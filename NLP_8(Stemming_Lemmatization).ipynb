{
 "cells": [
  {
   "cell_type": "code",
   "execution_count": 2,
   "id": "9811c0b4",
   "metadata": {},
   "outputs": [],
   "source": [
    "#Stemming uses fixed set of rules to form the base word of the word   ability--> abil\n",
    "#Lemmatization uses knowledge to derive a base word    ability--> ability"
   ]
  },
  {
   "cell_type": "code",
   "execution_count": 4,
   "id": "68ba9d7f",
   "metadata": {},
   "outputs": [],
   "source": [
    "import nltk\n",
    "import spacy"
   ]
  },
  {
   "cell_type": "code",
   "execution_count": 6,
   "id": "0ac31ed1",
   "metadata": {},
   "outputs": [],
   "source": [
    "from nltk.stem import PorterStemmer\n",
    "stemmer=PorterStemmer()"
   ]
  },
  {
   "cell_type": "code",
   "execution_count": 18,
   "id": "58b543e0",
   "metadata": {},
   "outputs": [
    {
     "name": "stdout",
     "output_type": "stream",
     "text": [
      "ate  |  ate\n",
      "saw  |  saw\n",
      "brought  |  brought\n",
      "thought  |  thought\n",
      "done  |  done\n",
      "died  |  die\n",
      "ability  |  abil\n",
      "adjustable  |  adjust\n",
      "better  |  better\n"
     ]
    }
   ],
   "source": [
    "words=['ate','saw','brought','thought','done','died','ability','adjustable','better']\n",
    "for word in words:\n",
    "    print(word,' | ',stemmer.stem(word))"
   ]
  },
  {
   "cell_type": "code",
   "execution_count": 19,
   "id": "09038854",
   "metadata": {},
   "outputs": [],
   "source": [
    "nlp=spacy.load('en_core_web_sm')\n",
    "d=nlp('ate saw brought done ability adjustable thinking there better is')"
   ]
  },
  {
   "cell_type": "code",
   "execution_count": 21,
   "id": "fb17f088",
   "metadata": {},
   "outputs": [
    {
     "name": "stdout",
     "output_type": "stream",
     "text": [
      "eat\n",
      "saw\n",
      "bring\n",
      "do\n",
      "ability\n",
      "adjustable\n",
      "thinking\n",
      "there\n",
      "well\n",
      "be\n"
     ]
    }
   ],
   "source": [
    "for i in d:\n",
    "    print(i.lemma_)"
   ]
  },
  {
   "cell_type": "code",
   "execution_count": 23,
   "id": "6a23c969",
   "metadata": {},
   "outputs": [
    {
     "name": "stdout",
     "output_type": "stream",
     "text": [
      "Bro | Brother\n",
      ", | ,\n",
      "you | you\n",
      "wanna | wanna\n",
      "go | go\n",
      "? | ?\n",
      "Brah | Brother\n",
      ", | ,\n",
      "do | do\n",
      "n't | not\n",
      "say | say\n",
      "no | no\n",
      "! | !\n",
      "I | I\n",
      "am | be\n",
      "exhausted | exhaust\n"
     ]
    }
   ],
   "source": [
    "ar=nlp.get_pipe('attribute_ruler')\n",
    "ar.add([[{\"TEXT\":\"Bro\"}],[{\"TEXT\":\"Brah\"}]],{\"LEMMA\":\"Brother\"})\n",
    "d=nlp(\"Bro,you wanna go? Brah, don't say no! I am exhausted\")\n",
    "for i in d:\n",
    "    print(i,'|',i.lemma_)"
   ]
  }
 ],
 "metadata": {
  "kernelspec": {
   "display_name": "Python 3 (ipykernel)",
   "language": "python",
   "name": "python3"
  },
  "language_info": {
   "codemirror_mode": {
    "name": "ipython",
    "version": 3
   },
   "file_extension": ".py",
   "mimetype": "text/x-python",
   "name": "python",
   "nbconvert_exporter": "python",
   "pygments_lexer": "ipython3",
   "version": "3.11.4"
  }
 },
 "nbformat": 4,
 "nbformat_minor": 5
}
