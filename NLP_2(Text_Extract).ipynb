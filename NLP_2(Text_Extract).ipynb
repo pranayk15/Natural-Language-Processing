{
 "cells": [
  {
   "cell_type": "code",
   "execution_count": null,
   "id": "70889cc7",
   "metadata": {},
   "outputs": [],
   "source": [
    "#Text extraction from the given paragraph"
   ]
  },
  {
   "cell_type": "code",
   "execution_count": 2,
   "id": "c7cb2d5e",
   "metadata": {},
   "outputs": [],
   "source": [
    "import re"
   ]
  },
  {
   "cell_type": "code",
   "execution_count": 3,
   "id": "1c5f1234",
   "metadata": {},
   "outputs": [],
   "source": [
    "text='''Born\tElon Reeve Musk\n",
    "June 28, 1971 (age 53)\n",
    "Pretoria, Transvaal, South Africa\n",
    "Citizenship\t\n",
    "South Africa\n",
    "Canada\n",
    "United States (from 2002)\n",
    "Education\tUniversity of Pennsylvania (BA, BS)\n",
    "Title\t\n",
    "Founder, CEO, and chief engineer of SpaceX\n",
    "CEO and product architect of Tesla, Inc.\n",
    "Owner, CTO and Executive Chairman of X (formerly Twitter)\n",
    "President of the Musk Foundation\n",
    "Founder of The Boring Company, X Corp., and xAI\n",
    "Co-founder of Neuralink, OpenAI, Zip2, and X.com (part of PayPal)'''"
   ]
  },
  {
   "cell_type": "code",
   "execution_count": 45,
   "id": "286c11d4",
   "metadata": {},
   "outputs": [
    {
     "data": {
      "text/plain": [
       "53"
      ]
     },
     "execution_count": 45,
     "metadata": {},
     "output_type": "execute_result"
    }
   ],
   "source": [
    "pattern='age (\\d+)'  #+ means one or more of this character\n",
    "matches=re.findall(pattern,text)\n",
    "int(matches[0])"
   ]
  },
  {
   "cell_type": "code",
   "execution_count": 27,
   "id": "ce1688ba",
   "metadata": {},
   "outputs": [
    {
     "data": {
      "text/plain": [
       "'Elon Reeve Musk'"
      ]
     },
     "execution_count": 27,
     "metadata": {},
     "output_type": "execute_result"
    }
   ],
   "source": [
    "pattern='Born(.*)'\n",
    "matches=re.findall(pattern,text)\n",
    "matches[0].strip()"
   ]
  },
  {
   "cell_type": "code",
   "execution_count": 50,
   "id": "0cf98239",
   "metadata": {},
   "outputs": [
    {
     "data": {
      "text/plain": [
       "'June 28, 1971'"
      ]
     },
     "execution_count": 50,
     "metadata": {},
     "output_type": "execute_result"
    }
   ],
   "source": [
    "pattern='Born.*\\n(.*)\\(age'\n",
    "matches=re.findall(pattern,text)\n",
    "matches[0].strip()"
   ]
  },
  {
   "cell_type": "code",
   "execution_count": 46,
   "id": "c4771480",
   "metadata": {},
   "outputs": [
    {
     "data": {
      "text/plain": [
       "'Pretoria, Transvaal, South Africa'"
      ]
     },
     "execution_count": 46,
     "metadata": {},
     "output_type": "execute_result"
    }
   ],
   "source": [
    "pattern='age.*\\n(.*)'\n",
    "matches=re.findall(pattern,text)\n",
    "matches[0].strip()"
   ]
  },
  {
   "cell_type": "code",
   "execution_count": 48,
   "id": "c2280679",
   "metadata": {},
   "outputs": [],
   "source": [
    "def getmatches(pattern,text):\n",
    "    matches=re.findall(pattern,text)\n",
    "    if matches:\n",
    "        return matches[0]"
   ]
  },
  {
   "cell_type": "code",
   "execution_count": 52,
   "id": "0c3f1fb7",
   "metadata": {},
   "outputs": [
    {
     "data": {
      "text/plain": [
       "'June 28, 1971 '"
      ]
     },
     "execution_count": 52,
     "metadata": {},
     "output_type": "execute_result"
    }
   ],
   "source": [
    "getmatches(pattern,text)"
   ]
  },
  {
   "cell_type": "code",
   "execution_count": 55,
   "id": "a9605173",
   "metadata": {},
   "outputs": [],
   "source": [
    "def personalinfo(text):\n",
    "    age=getmatches('age (\\d+)',text)\n",
    "    name=getmatches('Born(.*)',text)\n",
    "    date=getmatches('Born.*\\n(.*)\\(age',text)\n",
    "    place=getmatches('age.*\\n(.*)',text)\n",
    "    return {\n",
    "        'age':age,\n",
    "        'name':name.strip(),\n",
    "        'birth_date':date,\n",
    "        'birth_place':place.strip()\n",
    "    }"
   ]
  },
  {
   "cell_type": "code",
   "execution_count": 56,
   "id": "693d68f1",
   "metadata": {},
   "outputs": [
    {
     "data": {
      "text/plain": [
       "{'age': '53',\n",
       " 'name': 'Elon Reeve Musk',\n",
       " 'birth_date': 'June 28, 1971 ',\n",
       " 'birth_place': 'Pretoria, Transvaal, South Africa'}"
      ]
     },
     "execution_count": 56,
     "metadata": {},
     "output_type": "execute_result"
    }
   ],
   "source": [
    "personalinfo('''Born\tElon Reeve Musk\n",
    "June 28, 1971 (age 53)\n",
    "Pretoria, Transvaal, South Africa\n",
    "Citizenship\t\n",
    "South Africa\n",
    "Canada\n",
    "United States (from 2002)\n",
    "Education\tUniversity of Pennsylvania (BA, BS)\n",
    "Title\t\n",
    "Founder, CEO, and chief engineer of SpaceX\n",
    "CEO and product architect of Tesla, Inc.\n",
    "Owner, CTO and Executive Chairman of X (formerly Twitter)\n",
    "President of the Musk Foundation\n",
    "Founder of The Boring Company, X Corp., and xAI\n",
    "Co-founder of Neuralink, OpenAI, Zip2, and X.com (part of PayPal)''')"
   ]
  }
 ],
 "metadata": {
  "kernelspec": {
   "display_name": "Python 3 (ipykernel)",
   "language": "python",
   "name": "python3"
  },
  "language_info": {
   "codemirror_mode": {
    "name": "ipython",
    "version": 3
   },
   "file_extension": ".py",
   "mimetype": "text/x-python",
   "name": "python",
   "nbconvert_exporter": "python",
   "pygments_lexer": "ipython3",
   "version": "3.11.4"
  }
 },
 "nbformat": 4,
 "nbformat_minor": 5
}
